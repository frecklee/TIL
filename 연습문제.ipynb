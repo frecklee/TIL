{
 "cells": [
  {
   "cell_type": "markdown",
   "metadata": {},
   "source": [
    "# 1장"
   ]
  },
  {
   "cell_type": "markdown",
   "metadata": {},
   "source": [
    "- 1번: 사람의 언어\n",
    "- 2번: B++\n",
    "- 3번: 5\n",
    "- 4번: 4\n",
    "- 5번: \n",
    "  > print(\"아… 파이썬 너무 재미있어요. ^^\")\n",
    "- 6번:\n",
    "  >print(\"11 + 22 = 33\") # 11 + 22 = 33 출력  \n",
    "  >print(안녕? 파이썬) # 얘 오류\n"
   ]
  },
  {
   "cell_type": "markdown",
   "metadata": {},
   "source": [
    "# 2장"
   ]
  },
  {
   "cell_type": "markdown",
   "metadata": {},
   "source": [
    "- 1번: 3, 4\n",
    "- 2번: \n",
    "    - 1. 하하하\n",
    "    - 2. 300\n",
    "    - 3. 200+100\n",
    "    - 4. 300\n",
    "- 3번: 1, 4\n",
    "- 4번: \n",
    "    -  111 + 222 = 111222\n",
    "- 5번: var 변수의 값이 int가 아닌 string이기 때문이다.\n",
    "- 6번: int(var1)*int(var2)로 변경\n",
    "- 7번:\n",
    "```python\n",
    "a = int(input(\"숫자 1 입력:\"))\n",
    "b = int(input(\"숫자 2 입력:\"))\n",
    "print(a,\"+\",b,\"=\",a+b)\n",
    "print(a,\"*\",b,\"=\",a*b)\n",
    "print(a,\"^\",b,\"=\",pow(a,b))\n",
    "```\n",
    "- 8번:  \n",
    "\n",
    "```python\n",
    "import turtle\n",
    "import random\n",
    "\n",
    "def screenLeftClick(x,y) :\n",
    "    global r,g,b\n",
    "    tSize=random.randrange(1, 10)\n",
    "    turtle.shapesize(tSize)\n",
    "    turtle.left(random.randrange(1,360))\n",
    "\n",
    "    r = random.random()\n",
    "    g = random.random()    \n",
    "    b = random.random()    \n",
    "    \n",
    "    turtle.penup()\n",
    "    turtle.goto(x,y)\n",
    "    turtle.color((r,g,b))\n",
    "    turtle.stamp();\n",
    "\n",
    "pSize=10\n",
    "r,g,b=0.0,0.0,0.0\n",
    "\n",
    "turtle.title(\"거북이 도장 찍기\")\n",
    "turtle.shape('turtle')\n",
    "turtle.onscreenclick(screenLeftClick,1 )\n",
    "turtle.done()\n",
    "\n",
    "```"
   ]
  },
  {
   "cell_type": "code",
   "execution_count": 10,
   "metadata": {},
   "outputs": [
    {
     "name": "stdout",
     "output_type": "stream",
     "text": [
      "하하하\n",
      "300\n",
      "200+100\n",
      "300\n"
     ]
    }
   ],
   "source": [
    "#2번\n",
    "print (\"하하하\")\n",
    "print (200+100)\n",
    "print ( \"200+100\")\n",
    "print (int(\"200\")+100)"
   ]
  },
  {
   "cell_type": "code",
   "execution_count": 11,
   "metadata": {},
   "outputs": [
    {
     "name": "stdout",
     "output_type": "stream",
     "text": [
      "111\n",
      "222\n",
      "111 + 222 = 111222\n"
     ]
    }
   ],
   "source": [
    "# 4번\n",
    "var1 = input()\n",
    "var2 = input()\n",
    "result = var1+var2\n",
    "print(var1, \"+\", var2 , \"=\", result)"
   ]
  },
  {
   "cell_type": "code",
   "execution_count": 13,
   "metadata": {},
   "outputs": [
    {
     "name": "stdout",
     "output_type": "stream",
     "text": [
      "111\n",
      "222\n",
      "111 * 222 = 24642\n"
     ]
    }
   ],
   "source": [
    "# 5번\n",
    "var1 = input()\n",
    "var2 = input()\n",
    "result = int(var1)*int(var2)\n",
    "print(var1, \"*\", var2 , \"=\", result)"
   ]
  },
  {
   "cell_type": "code",
   "execution_count": 28,
   "metadata": {
    "scrolled": true
   },
   "outputs": [
    {
     "name": "stdout",
     "output_type": "stream",
     "text": [
      "숫자 1 입력:5\n",
      "숫자 2 입력:5\n",
      "5 + 5 = 10\n",
      "5 * 5 = 25\n",
      "5 ^ 5 = 3125\n"
     ]
    }
   ],
   "source": [
    "#7번 \n",
    "a = int(input(\"숫자 1 입력:\"))\n",
    "b = int(input(\"숫자 2 입력:\"))\n",
    "print(a,\"+\",b,\"=\",a+b)\n",
    "print(a,\"*\",b,\"=\",a*b)\n",
    "print(a,\"^\",b,\"=\",pow(a,b))"
   ]
  },
  {
   "cell_type": "code",
   "execution_count": 27,
   "metadata": {},
   "outputs": [],
   "source": [
    "# 8번\n",
    "\n",
    "import turtle\n",
    "import random\n",
    "\n",
    "def screenLeftClick(x,y) :\n",
    "    global r,g,b\n",
    "    tSize=random.randrange(1, 10)\n",
    "    turtle.shapesize(tSize)\n",
    "    turtle.left(random.randrange(1,360))\n",
    "\n",
    "    r = random.random()\n",
    "    g = random.random()    \n",
    "    b = random.random()    \n",
    "    \n",
    "#     turtle.pendown()\n",
    "    turtle.penup()\n",
    "    turtle.delay(0.0)\n",
    "    turtle.goto(x,y)\n",
    "    turtle.color((r,g,b))\n",
    "    turtle.stamp();\n",
    "    \n",
    "    \n",
    "pSize=10\n",
    "r,g,b=0.0,0.0,0.0\n",
    "\n",
    "turtle.title(\"거북이 도장 찍기\")\n",
    "turtle.shape('turtle')\n",
    "turtle.onscreenclick(screenLeftClick,1 )\n",
    "turtle.done()"
   ]
  },
  {
   "cell_type": "markdown",
   "metadata": {},
   "source": [
    "# 3장"
   ]
  },
  {
   "cell_type": "markdown",
   "metadata": {},
   "source": [
    "- 1번: 3, 4\n",
    "- 2번:  <br> \n",
    "    10 / 4 = 2  \n",
    "    10 / 4 = 2.500000  \n",
    "    10 / 4 =   2.5  \n",
    "    10 / 4 =     2  \n",
    "- 3번:<br>\n",
    "```\n",
    "00543  \n",
    "       파이썬  \n",
    "123.5\n",
    "```\n",
    "- 4번: 1, 4 \n",
    "- 5번: 3, 4 \n",
    "- 6번: 변수 초기화가 잘못됐다.\n",
    "- 7번: 1) 3. 2) 10, 3) 17, 4) 15\n",
    "- 8번: 1,2,3 . 2진수는 0,1. 8진수는 0~7, 16진수는 0~F 까지\n",
    "- 9번: 0b1100, 0xc, 0o14\n",
    "- 10번:\n",
    "```python\n",
    "num = input(\"16진수 한 글자 입력: \")\n",
    "num = num.upper()\n",
    "if num>='G':\n",
    "    print(\"16진수가 아닙니다.\")\n",
    "else : \n",
    "    num=int(num,16)\n",
    "    print(\"10진수==>\",(num))\n",
    "    \n",
    "    \n",
    "    \n",
    "    \n",
    "```"
   ]
  },
  {
   "cell_type": "code",
   "execution_count": 39,
   "metadata": {},
   "outputs": [
    {
     "name": "stdout",
     "output_type": "stream",
     "text": [
      "500+500\n",
      "1000\n"
     ]
    }
   ],
   "source": [
    "# 1번\n",
    "print(\"500+500\")\n",
    "print(\"%d\" % (500+500))\n",
    "# print(\"%d\"%(500, 600)) 오류\n",
    "# print(\"%d %d\" % (700)) 오류"
   ]
  },
  {
   "cell_type": "code",
   "execution_count": 38,
   "metadata": {},
   "outputs": [
    {
     "name": "stdout",
     "output_type": "stream",
     "text": [
      "10 / 4 = 2\n",
      "10 / 4 = 2.500000\n",
      "10 / 4 =   2.5\n",
      "10 / 4 =     2\n"
     ]
    }
   ],
   "source": [
    "# 2번\n",
    "print(\"%d / %d = %d\" % (10, 4, 10 /4))\n",
    "print(\"%d / %d = %f\" % (10, 4, 10 /4))\n",
    "print(\"%d / %d = %5.1f\" % (10, 4, 10 /4))\n",
    "print(\"%d / %d = %5.0f\" % (10, 4, 10 /4))"
   ]
  },
  {
   "cell_type": "code",
   "execution_count": 42,
   "metadata": {},
   "outputs": [
    {
     "name": "stdout",
     "output_type": "stream",
     "text": [
      "00543\n",
      "       파이썬\n",
      "123.5\n"
     ]
    }
   ],
   "source": [
    "# 3번\n",
    "print(\"%05d\" % 543)\n",
    "print(\"%10s\" % \"파이썬\")\n",
    "print(\"%1.1f\" % 123.45)"
   ]
  },
  {
   "cell_type": "code",
   "execution_count": 43,
   "metadata": {},
   "outputs": [
    {
     "ename": "SyntaxError",
     "evalue": "can't assign to literal (<ipython-input-43-d01fcbff61bd>, line 2)",
     "output_type": "error",
     "traceback": [
      "\u001b[1;36m  File \u001b[1;32m\"<ipython-input-43-d01fcbff61bd>\"\u001b[1;36m, line \u001b[1;32m2\u001b[0m\n\u001b[1;33m    a=b=10=c=d=20\u001b[0m\n\u001b[1;37m       ^\u001b[0m\n\u001b[1;31mSyntaxError\u001b[0m\u001b[1;31m:\u001b[0m can't assign to literal\n"
     ]
    }
   ],
   "source": [
    "# 6번\n",
    "a=b=10=c=d=20"
   ]
  },
  {
   "cell_type": "code",
   "execution_count": 50,
   "metadata": {},
   "outputs": [
    {
     "name": "stdout",
     "output_type": "stream",
     "text": [
      "0b1100\n",
      "0xc\n",
      "0o14\n"
     ]
    },
    {
     "ename": "ValueError",
     "evalue": "invalid literal for int() with base 16: 'AAFG'",
     "output_type": "error",
     "traceback": [
      "\u001b[1;31m---------------------------------------------------------------------------\u001b[0m",
      "\u001b[1;31mValueError\u001b[0m                                Traceback (most recent call last)",
      "\u001b[1;32m<ipython-input-50-c7a9d2ecf6f3>\u001b[0m in \u001b[0;36m<module>\u001b[1;34m()\u001b[0m\n\u001b[0;32m      1\u001b[0m \u001b[1;31m# 8~9번\u001b[0m\u001b[1;33m\u001b[0m\u001b[1;33m\u001b[0m\u001b[0m\n\u001b[0;32m      2\u001b[0m \u001b[0mprint\u001b[0m\u001b[1;33m(\u001b[0m\u001b[0mbin\u001b[0m\u001b[1;33m(\u001b[0m\u001b[1;36m12\u001b[0m\u001b[1;33m)\u001b[0m\u001b[1;33m)\u001b[0m\u001b[1;33m;\u001b[0m\u001b[0mprint\u001b[0m\u001b[1;33m(\u001b[0m\u001b[0mhex\u001b[0m\u001b[1;33m(\u001b[0m\u001b[1;36m12\u001b[0m\u001b[1;33m)\u001b[0m\u001b[1;33m)\u001b[0m\u001b[1;33m;\u001b[0m\u001b[0mprint\u001b[0m\u001b[1;33m(\u001b[0m\u001b[0moct\u001b[0m\u001b[1;33m(\u001b[0m\u001b[1;36m12\u001b[0m\u001b[1;33m)\u001b[0m\u001b[1;33m)\u001b[0m\u001b[1;33m\u001b[0m\u001b[0m\n\u001b[1;32m----> 3\u001b[1;33m \u001b[0mprint\u001b[0m\u001b[1;33m(\u001b[0m \u001b[0mint\u001b[0m\u001b[1;33m(\u001b[0m\u001b[1;34m'AAFG'\u001b[0m\u001b[1;33m,\u001b[0m\u001b[1;36m16\u001b[0m\u001b[1;33m)\u001b[0m\u001b[1;33m)\u001b[0m\u001b[1;33m\u001b[0m\u001b[0m\n\u001b[0m",
      "\u001b[1;31mValueError\u001b[0m: invalid literal for int() with base 16: 'AAFG'"
     ]
    }
   ],
   "source": [
    "# 8~9번\n",
    "print(bin(12));print(hex(12));print(oct(12))\n",
    "print( int('AAFG',16))"
   ]
  },
  {
   "cell_type": "code",
   "execution_count": 9,
   "metadata": {},
   "outputs": [
    {
     "name": "stdout",
     "output_type": "stream",
     "text": [
      "16진수 한 글자 입력: 0\n",
      "10진수==> 0\n"
     ]
    }
   ],
   "source": [
    "num = input(\"16진수 한 글자 입력: \")\n",
    "num = num.upper()\n",
    "if num>='G':\n",
    "    print(\"16진수가 아닙니다.\")\n",
    "else : \n",
    "    num=int(num,16)\n",
    "    print(\"10진수==>\",(num))"
   ]
  },
  {
   "cell_type": "markdown",
   "metadata": {},
   "source": [
    "# 4장"
   ]
  },
  {
   "cell_type": "markdown",
   "metadata": {},
   "source": [
    "1. ^ ~ & ***\n",
    "2. 30 -10 10 0\n",
    "3. 3 -1 1.5\n",
    "4. 3. float로 변ㄱㅇ\n",
    "5. 30, 10, 0\n",
    "6. 4, 5, 6\n",
    "7. 0, FFFF, FFFF\n",
    "8. 100\n",
    "9.  \n",
    "``` python\n",
    "money = int(input(\"교환할 돈은 얼마? \"))\n",
    "    money50000 = money//50000\n",
    "    money%=50000\n",
    "    print(\"50000원 \", money50000, \"장,\")\n",
    "    money10000 = money//10000\n",
    "    money%=10000\n",
    "\n",
    "    print(\"10000원 \", money10000, \"장,\")\n",
    "    money5000 = money//5000\n",
    "    money%=5000\n",
    "\n",
    "    print(\"5000원 \", money5000, \"장,\")\n",
    "    money1000 = money//1000\n",
    "    money%=1000\n",
    "\n",
    "    print(\"1000원 \", money1000, \"장\\n\")\n",
    "    money500 = money//500\n",
    "    money%=500\n",
    "\n",
    "    print(\"500원 \", money500, \"개,\")\n",
    "    money100 = money//100\n",
    "    money%=100\n",
    "\n",
    "    print(\"100원 \", money100, \"개,\")\n",
    "    money50 = money//50\n",
    "    money%=50\n",
    "\n",
    "    print(\"50원 \", money50, \"개,\")\n",
    "    money10 = money//10\n",
    "    money%=10\n",
    "\n",
    "    print(\"10원 \", money10, \"개\")\n",
    "    print(\"바꾸지 못한 돈==> \",money,\"원\")\n",
    "```"
   ]
  },
  {
   "cell_type": "code",
   "execution_count": 17,
   "metadata": {},
   "outputs": [
    {
     "data": {
      "text/plain": [
       "222.22"
      ]
     },
     "execution_count": 17,
     "metadata": {},
     "output_type": "execute_result"
    }
   ],
   "source": [
    "s1, s2, s3 = \"111\", \"111.11\", \"9999999999999\"\n",
    "int (s1)+111.11\n",
    "int (s3)+111.11\n",
    "float (s2)+111.11"
   ]
  },
  {
   "cell_type": "code",
   "execution_count": 18,
   "metadata": {},
   "outputs": [
    {
     "name": "stdout",
     "output_type": "stream",
     "text": [
      "30\n",
      "10\n",
      "0\n"
     ]
    }
   ],
   "source": [
    "a, b = 10, 20;a+=b;print(a)\n",
    "a, b = 10, 20;a%=b;print(a)\n",
    "a, b = 10, 20;a//=b;print(a)\n"
   ]
  },
  {
   "cell_type": "code",
   "execution_count": 21,
   "metadata": {},
   "outputs": [
    {
     "name": "stdout",
     "output_type": "stream",
     "text": [
      "0\n",
      "65535\n",
      "65535\n"
     ]
    }
   ],
   "source": [
    "# 7\n",
    "print(0xff00 & 0x00ff)\n",
    "print(0xff00 | 0x00ff)\n",
    "print(0xff00 ^ 0x00ff)"
   ]
  },
  {
   "cell_type": "code",
   "execution_count": 22,
   "metadata": {},
   "outputs": [
    {
     "name": "stdout",
     "output_type": "stream",
     "text": [
      "100\n"
     ]
    }
   ],
   "source": [
    "a=100;a=a<<100;a=a>>100;print(a)"
   ]
  },
  {
   "cell_type": "code",
   "execution_count": 3,
   "metadata": {},
   "outputs": [
    {
     "name": "stdout",
     "output_type": "stream",
     "text": [
      "교환할 돈은 얼마? 777777\n",
      "50000원  15 장,\n",
      "10000원  2 장,\n",
      "5000원  1 장,\n",
      "1000원  2 장\n",
      "\n",
      "500원  1 개,\n",
      "100원  2 개,\n",
      "50원  1 개,\n",
      "10원  2 개\n",
      "바꾸지 못한 돈==>  7 원\n"
     ]
    }
   ],
   "source": [
    "money = int(input(\"교환할 돈은 얼마? \"))\n",
    "money50000 = money//50000\n",
    "money%=50000\n",
    "print(\"50000원 \", money50000, \"장,\")\n",
    "money10000 = money//10000\n",
    "money%=10000\n",
    "\n",
    "print(\"10000원 \", money10000, \"장,\")\n",
    "money5000 = money//5000\n",
    "money%=5000\n",
    "\n",
    "print(\"5000원 \", money5000, \"장,\")\n",
    "money1000 = money//1000\n",
    "money%=1000\n",
    "\n",
    "print(\"1000원 \", money1000, \"장\\n\")\n",
    "money500 = money//500\n",
    "money%=500\n",
    "\n",
    "print(\"500원 \", money500, \"개,\")\n",
    "money100 = money//100\n",
    "money%=100\n",
    "\n",
    "print(\"100원 \", money100, \"개,\")\n",
    "money50 = money//50\n",
    "money%=50\n",
    "\n",
    "print(\"50원 \", money50, \"개,\")\n",
    "money10 = money//10\n",
    "money%=10\n",
    "\n",
    "print(\"10원 \", money10, \"개\")\n",
    "print(\"바꾸지 못한 돈==> \",money,\"원\")"
   ]
  },
  {
   "cell_type": "code",
   "execution_count": null,
   "metadata": {},
   "outputs": [],
   "source": [
    "#10번\n"
   ]
  }
 ],
 "metadata": {
  "kernelspec": {
   "display_name": "Python 3",
   "language": "python",
   "name": "python3"
  },
  "language_info": {
   "codemirror_mode": {
    "name": "ipython",
    "version": 3
   },
   "file_extension": ".py",
   "mimetype": "text/x-python",
   "name": "python",
   "nbconvert_exporter": "python",
   "pygments_lexer": "ipython3",
   "version": "3.7.0"
  }
 },
 "nbformat": 4,
 "nbformat_minor": 2
}
