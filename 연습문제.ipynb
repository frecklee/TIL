{
 "cells": [
  {
   "cell_type": "markdown",
   "metadata": {},
   "source": [
    "# 1장"
   ]
  },
  {
   "cell_type": "markdown",
   "metadata": {},
   "source": [
    "- 1번: 사람의 언어\n",
    "- 2번: B++\n",
    "- 3번: 5\n",
    "- 4번: 4\n",
    "- 5번: \n",
    "  > print(\"아… 파이썬 너무 재미있어요. ^^\")\n",
    "- 6번:\n",
    "  >print(\"11 + 22 = 33\") # 11 + 22 = 33 출력  \n",
    "  >print(안녕? 파이썬) # 얘 오류\n"
   ]
  },
  {
   "cell_type": "markdown",
   "metadata": {},
   "source": [
    "# 2장"
   ]
  },
  {
   "cell_type": "markdown",
   "metadata": {},
   "source": [
    "- 1번: 3, 4\n",
    "- 2번: \n",
    "    - 1. 하하하\n",
    "    - 2. 300\n",
    "    - 3. 200+100\n",
    "    - 4. 300\n",
    "- 3번: 1, 4\n",
    "- 4번: \n",
    "    -  111 + 222 = 111222\n",
    "- 5번: var 변수의 값이 int가 아닌 string이기 때문이다.\n",
    "- 6번: int(var1)*int(var2)로 변경\n",
    "- 7번:\n",
    "```python\n",
    "a = int(input(\"숫자 1 입력:\"))\n",
    "b = int(input(\"숫자 2 입력:\"))\n",
    "print(a,\"+\",b,\"=\",a+b)\n",
    "print(a,\"*\",b,\"=\",a*b)\n",
    "print(a,\"^\",b,\"=\",pow(a,b))\n",
    "```\n",
    "- 8번:  \n",
    "\n",
    "```python\n",
    "import turtle\n",
    "import random\n",
    "\n",
    "def screenLeftClick(x,y) :\n",
    "    global r,g,b\n",
    "    tSize=random.randrange(1, 10)\n",
    "    turtle.shapesize(tSize)\n",
    "    turtle.left(random.randrange(1,360))\n",
    "\n",
    "    r = random.random()\n",
    "    g = random.random()    \n",
    "    b = random.random()    \n",
    "    \n",
    "    turtle.penup()\n",
    "    turtle.goto(x,y)\n",
    "    turtle.color((r,g,b))\n",
    "    turtle.stamp();\n",
    "\n",
    "pSize=10\n",
    "r,g,b=0.0,0.0,0.0\n",
    "\n",
    "turtle.title(\"거북이 도장 찍기\")\n",
    "turtle.shape('turtle')\n",
    "turtle.onscreenclick(screenLeftClick,1 )\n",
    "turtle.done()\n",
    "\n",
    "```"
   ]
  },
  {
   "cell_type": "code",
   "execution_count": 10,
   "metadata": {},
   "outputs": [
    {
     "name": "stdout",
     "output_type": "stream",
     "text": [
      "하하하\n",
      "300\n",
      "200+100\n",
      "300\n"
     ]
    }
   ],
   "source": [
    "#2번\n",
    "print (\"하하하\")\n",
    "print (200+100)\n",
    "print ( \"200+100\")\n",
    "print (int(\"200\")+100)"
   ]
  },
  {
   "cell_type": "code",
   "execution_count": 11,
   "metadata": {},
   "outputs": [
    {
     "name": "stdout",
     "output_type": "stream",
     "text": [
      "111\n",
      "222\n",
      "111 + 222 = 111222\n"
     ]
    }
   ],
   "source": [
    "# 4번\n",
    "var1 = input()\n",
    "var2 = input()\n",
    "result = var1+var2\n",
    "print(var1, \"+\", var2 , \"=\", result)"
   ]
  },
  {
   "cell_type": "code",
   "execution_count": 13,
   "metadata": {},
   "outputs": [
    {
     "name": "stdout",
     "output_type": "stream",
     "text": [
      "111\n",
      "222\n",
      "111 * 222 = 24642\n"
     ]
    }
   ],
   "source": [
    "# 5번\n",
    "var1 = input()\n",
    "var2 = input()\n",
    "result = int(var1)*int(var2)\n",
    "print(var1, \"*\", var2 , \"=\", result)"
   ]
  },
  {
   "cell_type": "code",
   "execution_count": 8,
   "metadata": {
    "scrolled": true
   },
   "outputs": [
    {
     "name": "stdout",
     "output_type": "stream",
     "text": [
      "숫자 1 입력:3\n",
      "숫자 2 입력:3\n",
      "3 + 3 = 6\n",
      "3 * 3 = 9\n",
      "3 ^ 3 = 27\n"
     ]
    }
   ],
   "source": [
    "#7번 \n",
    "a = int(input(\"숫자 1 입력:\"))\n",
    "b = int(input(\"숫자 2 입력:\"))\n",
    "print(a,\"+\",b,\"=\",a+b)\n",
    "print(a,\"*\",b,\"=\",a*b)\n",
    "print(a,\"^\",b,\"=\",pow(a,b))"
   ]
  },
  {
   "cell_type": "code",
   "execution_count": 27,
   "metadata": {},
   "outputs": [],
   "source": [
    "# 8번\n",
    "\n",
    "import turtle\n",
    "import random\n",
    "\n",
    "def screenLeftClick(x,y) :\n",
    "    global r,g,b\n",
    "    tSize=random.randrange(1, 10)\n",
    "    turtle.shapesize(tSize)\n",
    "    turtle.left(random.randrange(1,360))\n",
    "\n",
    "    r = random.random()\n",
    "    g = random.random()    \n",
    "    b = random.random()    \n",
    "    \n",
    "#     turtle.pendown()\n",
    "    turtle.penup()\n",
    "    turtle.delay(0.0)\n",
    "    turtle.goto(x,y)\n",
    "    turtle.color((r,g,b))\n",
    "    turtle.stamp();\n",
    "    \n",
    "    \n",
    "pSize=10\n",
    "r,g,b=0.0,0.0,0.0\n",
    "\n",
    "turtle.title(\"거북이 도장 찍기\")\n",
    "turtle.shape('turtle')\n",
    "turtle.onscreenclick(screenLeftClick,1 )\n",
    "turtle.done()"
   ]
  }
 ],
 "metadata": {
  "kernelspec": {
   "display_name": "Python 3",
   "language": "python",
   "name": "python3"
  },
  "language_info": {
   "codemirror_mode": {
    "name": "ipython",
    "version": 3
   },
   "file_extension": ".py",
   "mimetype": "text/x-python",
   "name": "python",
   "nbconvert_exporter": "python",
   "pygments_lexer": "ipython3",
   "version": "3.7.0"
  }
 },
 "nbformat": 4,
 "nbformat_minor": 2
}
